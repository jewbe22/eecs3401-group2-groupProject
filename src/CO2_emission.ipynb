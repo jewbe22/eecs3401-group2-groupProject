{
 "cells": [
  {
   "cell_type": "raw",
   "id": "b2611ddb-37d6-475e-bbbf-fec2d5bb019d",
   "metadata": {},
   "source": [
    "EECS3401 - Group Project - Group 2\n",
    "    CO2 emission prediction"
   ]
  }
 ],
 "metadata": {
  "kernelspec": {
   "display_name": "Python 3 (ipykernel)",
   "language": "python",
   "name": "python3"
  },
  "language_info": {
   "codemirror_mode": {
    "name": "ipython",
    "version": 3
   },
   "file_extension": ".py",
   "mimetype": "text/x-python",
   "name": "python",
   "nbconvert_exporter": "python",
   "pygments_lexer": "ipython3",
   "version": "3.11.5"
  }
 },
 "nbformat": 4,
 "nbformat_minor": 5
}
