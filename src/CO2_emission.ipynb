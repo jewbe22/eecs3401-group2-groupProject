{
 "cells": [
  {
   "cell_type": "markdown",
   "id": "b2611ddb-37d6-475e-bbbf-fec2d5bb019d",
   "metadata": {},
   "source": [
    "# EECS3401 - Group Project - Group 2 #\n",
    "    \n",
    "## CO2 emission prediction ##"
   ]
  },
  {
   "cell_type": "markdown",
   "id": "159acad9-54e9-4793-8cb6-396fe1415fd0",
   "metadata": {},
   "source": [
    "### frame ### \n",
    "supervised: as the target value(CO2) emmision is provided as label\n",
    "        \n",
    "model-based: regression model is used to make the prediction\n",
    "\n",
    "batch-learning: as of now, we have no plan to make this model to be trained with future incomming new data"
   ]
  },
  {
   "cell_type": "markdown",
   "id": "fdd26e32",
   "metadata": {},
   "source": [
    "### 1. Dataset acquisition ###"
   ]
  },
  {
   "cell_type": "code",
   "execution_count": 26,
   "id": "eb19d16c",
   "metadata": {
    "vscode": {
     "languageId": "bat"
    }
   },
   "outputs": [
    {
     "name": "stdout",
     "output_type": "stream",
     "text": [
      "Requirement already satisfied: pandas in c:\\users\\jewbe\\appdata\\local\\programs\\python\\python311\\lib\\site-packages (2.2.1)Note: you may need to restart the kernel to use updated packages.\n",
      "\n",
      "Requirement already satisfied: numpy<2,>=1.23.2 in c:\\users\\jewbe\\appdata\\local\\programs\\python\\python311\\lib\\site-packages (from pandas) (1.26.4)\n",
      "Requirement already satisfied: python-dateutil>=2.8.2 in c:\\users\\jewbe\\appdata\\roaming\\python\\python311\\site-packages (from pandas) (2.9.0.post0)\n",
      "Requirement already satisfied: pytz>=2020.1 in c:\\users\\jewbe\\appdata\\local\\programs\\python\\python311\\lib\\site-packages (from pandas) (2024.1)\n",
      "Requirement already satisfied: tzdata>=2022.7 in c:\\users\\jewbe\\appdata\\local\\programs\\python\\python311\\lib\\site-packages (from pandas) (2024.1)\n",
      "Requirement already satisfied: six>=1.5 in c:\\users\\jewbe\\appdata\\roaming\\python\\python311\\site-packages (from python-dateutil>=2.8.2->pandas) (1.16.0)\n",
      "Requirement already satisfied: requests in c:\\users\\jewbe\\appdata\\local\\programs\\python\\python311\\lib\\site-packages (2.31.0)\n",
      "Requirement already satisfied: charset-normalizer<4,>=2 in c:\\users\\jewbe\\appdata\\local\\programs\\python\\python311\\lib\\site-packages (from requests) (3.3.2)\n",
      "Requirement already satisfied: idna<4,>=2.5 in c:\\users\\jewbe\\appdata\\local\\programs\\python\\python311\\lib\\site-packages (from requests) (3.6)\n",
      "Requirement already satisfied: urllib3<3,>=1.21.1 in c:\\users\\jewbe\\appdata\\local\\programs\\python\\python311\\lib\\site-packages (from requests) (2.2.1)\n",
      "Requirement already satisfied: certifi>=2017.4.17 in c:\\users\\jewbe\\appdata\\local\\programs\\python\\python311\\lib\\site-packages (from requests) (2024.2.2)\n",
      "Note: you may need to restart the kernel to use updated packages.\n"
     ]
    }
   ],
   "source": [
    "%pip install pandas\n",
    "%pip install requests\n"
   ]
  },
  {
   "cell_type": "code",
   "execution_count": 27,
   "id": "464507cc",
   "metadata": {},
   "outputs": [],
   "source": [
    "import pandas as pd\n",
    "import requests as rq\n",
    "from io import StringIO"
   ]
  },
  {
   "cell_type": "code",
   "execution_count": 28,
   "id": "26c7d6d4",
   "metadata": {},
   "outputs": [
    {
     "data": {
      "text/html": [
       "<div>\n",
       "<style scoped>\n",
       "    .dataframe tbody tr th:only-of-type {\n",
       "        vertical-align: middle;\n",
       "    }\n",
       "\n",
       "    .dataframe tbody tr th {\n",
       "        vertical-align: top;\n",
       "    }\n",
       "\n",
       "    .dataframe thead th {\n",
       "        text-align: right;\n",
       "    }\n",
       "</style>\n",
       "<table border=\"1\" class=\"dataframe\">\n",
       "  <thead>\n",
       "    <tr style=\"text-align: right;\">\n",
       "      <th></th>\n",
       "      <th>Year</th>\n",
       "      <th>Make</th>\n",
       "      <th>Model</th>\n",
       "      <th>Vehicle Class</th>\n",
       "      <th>Engine Size (L)</th>\n",
       "      <th>Cylinders</th>\n",
       "      <th>Transmission</th>\n",
       "      <th>Fuel Type</th>\n",
       "      <th>Fuel Consumption (L/100Km)</th>\n",
       "      <th>Hwy (L/100 km)</th>\n",
       "      <th>Comb (L/100 km)</th>\n",
       "      <th>Comb (mpg)</th>\n",
       "      <th>CO2 Emissions (g/km)</th>\n",
       "      <th>CO2 Rating</th>\n",
       "      <th>Smog Rating</th>\n",
       "    </tr>\n",
       "  </thead>\n",
       "  <tbody>\n",
       "    <tr>\n",
       "      <th>0</th>\n",
       "      <td>2023</td>\n",
       "      <td>Acura</td>\n",
       "      <td>Integra</td>\n",
       "      <td>Full-size</td>\n",
       "      <td>1.5</td>\n",
       "      <td>4.0</td>\n",
       "      <td>AV7</td>\n",
       "      <td>Z</td>\n",
       "      <td>7.9</td>\n",
       "      <td>6.3</td>\n",
       "      <td>7.2</td>\n",
       "      <td>39.0</td>\n",
       "      <td>167.0</td>\n",
       "      <td>6.0</td>\n",
       "      <td>7.0</td>\n",
       "    </tr>\n",
       "    <tr>\n",
       "      <th>1</th>\n",
       "      <td>2023</td>\n",
       "      <td>Acura</td>\n",
       "      <td>Integra A-SPEC</td>\n",
       "      <td>Full-size</td>\n",
       "      <td>1.5</td>\n",
       "      <td>4.0</td>\n",
       "      <td>AV7</td>\n",
       "      <td>Z</td>\n",
       "      <td>8.1</td>\n",
       "      <td>6.5</td>\n",
       "      <td>7.4</td>\n",
       "      <td>38.0</td>\n",
       "      <td>172.0</td>\n",
       "      <td>6.0</td>\n",
       "      <td>7.0</td>\n",
       "    </tr>\n",
       "    <tr>\n",
       "      <th>2</th>\n",
       "      <td>2023</td>\n",
       "      <td>Acura</td>\n",
       "      <td>Integra A-SPEC</td>\n",
       "      <td>Full-size</td>\n",
       "      <td>1.5</td>\n",
       "      <td>4.0</td>\n",
       "      <td>M6</td>\n",
       "      <td>Z</td>\n",
       "      <td>8.9</td>\n",
       "      <td>6.5</td>\n",
       "      <td>7.8</td>\n",
       "      <td>36.0</td>\n",
       "      <td>181.0</td>\n",
       "      <td>6.0</td>\n",
       "      <td>6.0</td>\n",
       "    </tr>\n",
       "    <tr>\n",
       "      <th>3</th>\n",
       "      <td>2023</td>\n",
       "      <td>Acura</td>\n",
       "      <td>MDX SH-AWD</td>\n",
       "      <td>SUV: Small</td>\n",
       "      <td>3.5</td>\n",
       "      <td>6.0</td>\n",
       "      <td>AS10</td>\n",
       "      <td>Z</td>\n",
       "      <td>12.6</td>\n",
       "      <td>9.4</td>\n",
       "      <td>11.2</td>\n",
       "      <td>25.0</td>\n",
       "      <td>263.0</td>\n",
       "      <td>4.0</td>\n",
       "      <td>5.0</td>\n",
       "    </tr>\n",
       "    <tr>\n",
       "      <th>4</th>\n",
       "      <td>2023</td>\n",
       "      <td>Acura</td>\n",
       "      <td>MDX SH-AWD Type S</td>\n",
       "      <td>SUV: Standard</td>\n",
       "      <td>3.0</td>\n",
       "      <td>6.0</td>\n",
       "      <td>AS10</td>\n",
       "      <td>Z</td>\n",
       "      <td>13.8</td>\n",
       "      <td>11.2</td>\n",
       "      <td>12.4</td>\n",
       "      <td>23.0</td>\n",
       "      <td>291.0</td>\n",
       "      <td>4.0</td>\n",
       "      <td>5.0</td>\n",
       "    </tr>\n",
       "    <tr>\n",
       "      <th>...</th>\n",
       "      <td>...</td>\n",
       "      <td>...</td>\n",
       "      <td>...</td>\n",
       "      <td>...</td>\n",
       "      <td>...</td>\n",
       "      <td>...</td>\n",
       "      <td>...</td>\n",
       "      <td>...</td>\n",
       "      <td>...</td>\n",
       "      <td>...</td>\n",
       "      <td>...</td>\n",
       "      <td>...</td>\n",
       "      <td>...</td>\n",
       "      <td>...</td>\n",
       "      <td>...</td>\n",
       "    </tr>\n",
       "    <tr>\n",
       "      <th>851</th>\n",
       "      <td>NaN</td>\n",
       "      <td>N = natural gas</td>\n",
       "      <td>NaN</td>\n",
       "      <td>NaN</td>\n",
       "      <td>NaN</td>\n",
       "      <td>NaN</td>\n",
       "      <td>NaN</td>\n",
       "      <td>NaN</td>\n",
       "      <td>NaN</td>\n",
       "      <td>NaN</td>\n",
       "      <td>NaN</td>\n",
       "      <td>NaN</td>\n",
       "      <td>NaN</td>\n",
       "      <td>NaN</td>\n",
       "      <td>NaN</td>\n",
       "    </tr>\n",
       "    <tr>\n",
       "      <th>852</th>\n",
       "      <td>Fuel consumption</td>\n",
       "      <td>City and highway fuel consumption ratings are ...</td>\n",
       "      <td>NaN</td>\n",
       "      <td>NaN</td>\n",
       "      <td>NaN</td>\n",
       "      <td>NaN</td>\n",
       "      <td>NaN</td>\n",
       "      <td>NaN</td>\n",
       "      <td>NaN</td>\n",
       "      <td>NaN</td>\n",
       "      <td>NaN</td>\n",
       "      <td>NaN</td>\n",
       "      <td>NaN</td>\n",
       "      <td>NaN</td>\n",
       "      <td>NaN</td>\n",
       "    </tr>\n",
       "    <tr>\n",
       "      <th>853</th>\n",
       "      <td>CO2 emissions</td>\n",
       "      <td>the tailpipe emissions of carbon dioxide (in g...</td>\n",
       "      <td>NaN</td>\n",
       "      <td>NaN</td>\n",
       "      <td>NaN</td>\n",
       "      <td>NaN</td>\n",
       "      <td>NaN</td>\n",
       "      <td>NaN</td>\n",
       "      <td>NaN</td>\n",
       "      <td>NaN</td>\n",
       "      <td>NaN</td>\n",
       "      <td>NaN</td>\n",
       "      <td>NaN</td>\n",
       "      <td>NaN</td>\n",
       "      <td>NaN</td>\n",
       "    </tr>\n",
       "    <tr>\n",
       "      <th>854</th>\n",
       "      <td>CO2 rating</td>\n",
       "      <td>the tailpipe emissions of carbon dioxide rated...</td>\n",
       "      <td>NaN</td>\n",
       "      <td>NaN</td>\n",
       "      <td>NaN</td>\n",
       "      <td>NaN</td>\n",
       "      <td>NaN</td>\n",
       "      <td>NaN</td>\n",
       "      <td>NaN</td>\n",
       "      <td>NaN</td>\n",
       "      <td>NaN</td>\n",
       "      <td>NaN</td>\n",
       "      <td>NaN</td>\n",
       "      <td>NaN</td>\n",
       "      <td>NaN</td>\n",
       "    </tr>\n",
       "    <tr>\n",
       "      <th>855</th>\n",
       "      <td>Smog rating</td>\n",
       "      <td>the tailpipe emissions of smog-forming polluta...</td>\n",
       "      <td>NaN</td>\n",
       "      <td>NaN</td>\n",
       "      <td>NaN</td>\n",
       "      <td>NaN</td>\n",
       "      <td>NaN</td>\n",
       "      <td>NaN</td>\n",
       "      <td>NaN</td>\n",
       "      <td>NaN</td>\n",
       "      <td>NaN</td>\n",
       "      <td>NaN</td>\n",
       "      <td>NaN</td>\n",
       "      <td>NaN</td>\n",
       "      <td>NaN</td>\n",
       "    </tr>\n",
       "  </tbody>\n",
       "</table>\n",
       "<p>856 rows × 15 columns</p>\n",
       "</div>"
      ],
      "text/plain": [
       "                 Year                                               Make  \\\n",
       "0                2023                                              Acura   \n",
       "1                2023                                              Acura   \n",
       "2                2023                                              Acura   \n",
       "3                2023                                              Acura   \n",
       "4                2023                                              Acura   \n",
       "..                ...                                                ...   \n",
       "851               NaN                                    N = natural gas   \n",
       "852  Fuel consumption  City and highway fuel consumption ratings are ...   \n",
       "853     CO2 emissions  the tailpipe emissions of carbon dioxide (in g...   \n",
       "854        CO2 rating  the tailpipe emissions of carbon dioxide rated...   \n",
       "855       Smog rating  the tailpipe emissions of smog-forming polluta...   \n",
       "\n",
       "                 Model  Vehicle Class  Engine Size (L)  Cylinders  \\\n",
       "0              Integra      Full-size              1.5        4.0   \n",
       "1       Integra A-SPEC      Full-size              1.5        4.0   \n",
       "2       Integra A-SPEC      Full-size              1.5        4.0   \n",
       "3           MDX SH-AWD     SUV: Small              3.5        6.0   \n",
       "4    MDX SH-AWD Type S  SUV: Standard              3.0        6.0   \n",
       "..                 ...            ...              ...        ...   \n",
       "851                NaN            NaN              NaN        NaN   \n",
       "852                NaN            NaN              NaN        NaN   \n",
       "853                NaN            NaN              NaN        NaN   \n",
       "854                NaN            NaN              NaN        NaN   \n",
       "855                NaN            NaN              NaN        NaN   \n",
       "\n",
       "    Transmission Fuel Type  Fuel Consumption (L/100Km)  Hwy (L/100 km)  \\\n",
       "0            AV7         Z                         7.9             6.3   \n",
       "1            AV7         Z                         8.1             6.5   \n",
       "2             M6         Z                         8.9             6.5   \n",
       "3           AS10         Z                        12.6             9.4   \n",
       "4           AS10         Z                        13.8            11.2   \n",
       "..           ...       ...                         ...             ...   \n",
       "851          NaN       NaN                         NaN             NaN   \n",
       "852          NaN       NaN                         NaN             NaN   \n",
       "853          NaN       NaN                         NaN             NaN   \n",
       "854          NaN       NaN                         NaN             NaN   \n",
       "855          NaN       NaN                         NaN             NaN   \n",
       "\n",
       "     Comb (L/100 km)  Comb (mpg)  CO2 Emissions (g/km)  CO2 Rating  \\\n",
       "0                7.2        39.0                 167.0         6.0   \n",
       "1                7.4        38.0                 172.0         6.0   \n",
       "2                7.8        36.0                 181.0         6.0   \n",
       "3               11.2        25.0                 263.0         4.0   \n",
       "4               12.4        23.0                 291.0         4.0   \n",
       "..               ...         ...                   ...         ...   \n",
       "851              NaN         NaN                   NaN         NaN   \n",
       "852              NaN         NaN                   NaN         NaN   \n",
       "853              NaN         NaN                   NaN         NaN   \n",
       "854              NaN         NaN                   NaN         NaN   \n",
       "855              NaN         NaN                   NaN         NaN   \n",
       "\n",
       "     Smog Rating  \n",
       "0            7.0  \n",
       "1            7.0  \n",
       "2            6.0  \n",
       "3            5.0  \n",
       "4            5.0  \n",
       "..           ...  \n",
       "851          NaN  \n",
       "852          NaN  \n",
       "853          NaN  \n",
       "854          NaN  \n",
       "855          NaN  \n",
       "\n",
       "[856 rows x 15 columns]"
      ]
     },
     "execution_count": 28,
     "metadata": {},
     "output_type": "execute_result"
    }
   ],
   "source": [
    "url = 'https://raw.githubusercontent.com/jewbe22/eecs3401-group2-groupProject/main/data/Fuel_Consumption_Ratings_2023.csv'\n",
    "download = rq.get(url).content\n",
    "\n",
    "co2_emission = pd.read_csv(StringIO(download.decode(errors='ignore')), sep=',', engine='python')\n",
    "co2_emission"
   ]
  },
  {
   "cell_type": "markdown",
   "id": "f93ba69f",
   "metadata": {},
   "source": [
    "### 2. EDA ###"
   ]
  },
  {
   "cell_type": "code",
   "execution_count": 29,
   "id": "245d5f1b",
   "metadata": {},
   "outputs": [],
   "source": [
    "# todo"
   ]
  },
  {
   "cell_type": "markdown",
   "id": "d737f476",
   "metadata": {},
   "source": [
    "### 3. Data cleaning/Preprocessing ###"
   ]
  },
  {
   "cell_type": "code",
   "execution_count": 30,
   "id": "7d7850f4",
   "metadata": {},
   "outputs": [],
   "source": [
    "# todo"
   ]
  },
  {
   "cell_type": "markdown",
   "id": "e6b19336",
   "metadata": {},
   "source": [
    "### 4. Model training ###"
   ]
  },
  {
   "cell_type": "code",
   "execution_count": 31,
   "id": "48bc1886",
   "metadata": {},
   "outputs": [],
   "source": [
    "import numpy as np\n",
    "from sklearn.linear_model import LinearRegression\n",
    "from sklearn.tree import DecisionTreeRegressor\n",
    "from sklearn.linear_model import ElasticNet\n",
    "from sklearn.model_selection import GridSearchCV, cross_validate, cross_val_score\n",
    "\n",
    "RANDOM_STATE = 42"
   ]
  },
  {
   "cell_type": "code",
   "execution_count": 32,
   "id": "f8998ab2",
   "metadata": {},
   "outputs": [],
   "source": [
    "# todo\n",
    "\n",
    "## mocking dataset, to be deleted.\n",
    "column = []\n",
    "for i in range(13):\n",
    "    column.append(\"x_\" + str(i))\n",
    "column.append(\"target\")\n",
    "\n",
    "X_train = np.random.rand(1000,13)\n",
    "X_test = np.random.rand(200, 13)\n",
    "y_train = np.random.randint(low=1, high=100, size=(1000,1))\n",
    "y_test = np.random.randint(low=1, high=100, size=(200,1))\n",
    "## mocking ends\n",
    "\n",
    "\n"
   ]
  },
  {
   "cell_type": "code",
   "execution_count": 33,
   "id": "118affe2",
   "metadata": {},
   "outputs": [],
   "source": [
    "linear_model = LinearRegression()\n",
    "linear_params = {\n",
    "    'copy_X':[True],\n",
    "    'n_jobs':[None, 1, 2, 5, 10],\n",
    "    'positive':[True, False]\n",
    "}"
   ]
  },
  {
   "cell_type": "code",
   "execution_count": 34,
   "id": "e89dea8e",
   "metadata": {},
   "outputs": [],
   "source": [
    "tree_model = DecisionTreeRegressor()\n",
    "tree_params = {\n",
    "    'criterion':['squared_error', 'friedman_mse', 'absolute_error', 'poisson'],\n",
    "    'splitter':['best','random'],\n",
    "    'random_state':[RANDOM_STATE]    \n",
    "}"
   ]
  },
  {
   "cell_type": "code",
   "execution_count": 35,
   "id": "e26412ae",
   "metadata": {},
   "outputs": [],
   "source": [
    "elastic_model = ElasticNet()\n",
    "elastic_params = {\n",
    "    'alpha':[0.5, 1, 1.5],\n",
    "    'l1_ratio':[0.3, 0.4, 0.5, 0.6, 0.7],\n",
    "    'max_iter':[2000, 4000, 8000],\n",
    "    'copy_X':[True],\n",
    "    'positive':[True, False],\n",
    "    'random_state':[RANDOM_STATE]\n",
    "}"
   ]
  },
  {
   "cell_type": "code",
   "execution_count": 36,
   "id": "51966c0b",
   "metadata": {},
   "outputs": [],
   "source": [
    "\n",
    "scoring_methods = ['neg_mean_absolute_error', 'neg_mean_squared_error','neg_root_mean_squared_error', 'r2']\n",
    "\n",
    "linear_best = GridSearchCV(linear_model, linear_params, scoring=scoring_methods, refit='neg_root_mean_squared_error', cv=5)\n",
    "tree_best = GridSearchCV(tree_model, tree_params, scoring=scoring_methods, refit='neg_root_mean_squared_error', cv=5)\n",
    "elastic_best = GridSearchCV(elastic_model, elastic_params, scoring=scoring_methods, refit='neg_root_mean_squared_error', cv=5)\n",
    "models = [('Linear regression',linear_best),\n",
    "          ('Decision tree regressor',tree_best),\n",
    "          ('Elastic net',elastic_best)]\n",
    "cv_result = {}\n",
    "temp = []\n",
    "for (name, model) in models:\n",
    "    model.fit(X_train, y_train)\n",
    "    cv_result[name] = pd.DataFrame(cross_validate(model.best_estimator_, X_train, y_train, scoring=scoring_methods ,cv=5))\n",
    "    temp.append((name, model.best_estimator_))\n",
    "\n",
    "models = temp\n",
    "\n",
    "\n"
   ]
  },
  {
   "cell_type": "code",
   "execution_count": 37,
   "id": "051eca8d",
   "metadata": {},
   "outputs": [],
   "source": [
    "stat_columns = cv_result[models[0][0]].mean().index\n",
    "statistic = pd.DataFrame(columns=stat_columns)\n",
    "model_names = [models[i][0] for i in range(len(models))]\n",
    "for model in model_names:\n",
    "    statistic.loc[-1] = cv_result[model].mean()\n",
    "    statistic.index = statistic.index + 1\n",
    "\n",
    "\n",
    "statistic.index = model_names\n",
    "\n",
    "\n"
   ]
  },
  {
   "cell_type": "code",
   "execution_count": 38,
   "id": "133329ba",
   "metadata": {},
   "outputs": [
    {
     "data": {
      "text/html": [
       "<div>\n",
       "<style scoped>\n",
       "    .dataframe tbody tr th:only-of-type {\n",
       "        vertical-align: middle;\n",
       "    }\n",
       "\n",
       "    .dataframe tbody tr th {\n",
       "        vertical-align: top;\n",
       "    }\n",
       "\n",
       "    .dataframe thead th {\n",
       "        text-align: right;\n",
       "    }\n",
       "</style>\n",
       "<table border=\"1\" class=\"dataframe\">\n",
       "  <thead>\n",
       "    <tr style=\"text-align: right;\">\n",
       "      <th></th>\n",
       "      <th>fit_time</th>\n",
       "      <th>score_time</th>\n",
       "      <th>test_neg_mean_absolute_error</th>\n",
       "      <th>test_neg_mean_squared_error</th>\n",
       "      <th>test_neg_root_mean_squared_error</th>\n",
       "      <th>test_r2</th>\n",
       "    </tr>\n",
       "  </thead>\n",
       "  <tbody>\n",
       "    <tr>\n",
       "      <th>Elastic net</th>\n",
       "      <td>0.001397</td>\n",
       "      <td>0.001197</td>\n",
       "      <td>-24.793530</td>\n",
       "      <td>-811.362321</td>\n",
       "      <td>-28.473361</td>\n",
       "      <td>-0.001149</td>\n",
       "    </tr>\n",
       "    <tr>\n",
       "      <th>Linear regression</th>\n",
       "      <td>0.001999</td>\n",
       "      <td>0.001001</td>\n",
       "      <td>-24.875982</td>\n",
       "      <td>-818.254510</td>\n",
       "      <td>-28.590338</td>\n",
       "      <td>-0.009212</td>\n",
       "    </tr>\n",
       "    <tr>\n",
       "      <th>Decision tree regressor</th>\n",
       "      <td>0.003386</td>\n",
       "      <td>0.001206</td>\n",
       "      <td>-33.068000</td>\n",
       "      <td>-1615.830000</td>\n",
       "      <td>-40.192956</td>\n",
       "      <td>-0.998903</td>\n",
       "    </tr>\n",
       "  </tbody>\n",
       "</table>\n",
       "</div>"
      ],
      "text/plain": [
       "                         fit_time  score_time  test_neg_mean_absolute_error  \\\n",
       "Elastic net              0.001397    0.001197                    -24.793530   \n",
       "Linear regression        0.001999    0.001001                    -24.875982   \n",
       "Decision tree regressor  0.003386    0.001206                    -33.068000   \n",
       "\n",
       "                         test_neg_mean_squared_error  \\\n",
       "Elastic net                              -811.362321   \n",
       "Linear regression                        -818.254510   \n",
       "Decision tree regressor                 -1615.830000   \n",
       "\n",
       "                         test_neg_root_mean_squared_error   test_r2  \n",
       "Elastic net                                    -28.473361 -0.001149  \n",
       "Linear regression                              -28.590338 -0.009212  \n",
       "Decision tree regressor                        -40.192956 -0.998903  "
      ]
     },
     "execution_count": 38,
     "metadata": {},
     "output_type": "execute_result"
    }
   ],
   "source": [
    "statistic.sort_values(by='test_neg_root_mean_squared_error', inplace=True, ascending=False)\n",
    "statistic"
   ]
  },
  {
   "cell_type": "markdown",
   "id": "a84208ea",
   "metadata": {},
   "source": [
    "### 5. Performance analysis ###"
   ]
  },
  {
   "cell_type": "code",
   "execution_count": 39,
   "id": "2ac0c01a",
   "metadata": {},
   "outputs": [],
   "source": [
    "#source : https://www.dataquest.io/blog/learning-curves-machine-learning/\n",
    "from sklearn.model_selection import learning_curve\n",
    "import matplotlib.pyplot as plt"
   ]
  },
  {
   "cell_type": "code",
   "execution_count": 40,
   "id": "cdd8ff4f",
   "metadata": {},
   "outputs": [],
   "source": [
    "train_size = np.arange(start=100, stop=int(X_train.shape[0] * 0.8), step=200)\n"
   ]
  },
  {
   "cell_type": "code",
   "execution_count": 41,
   "id": "4fd693ef",
   "metadata": {},
   "outputs": [
    {
     "name": "stdout",
     "output_type": "stream",
     "text": [
      "Elastic net\n"
     ]
    }
   ],
   "source": [
    "# best_estimator = (name, estimator_object)\n",
    "best_estimator = None\n",
    "for pair in models:\n",
    "    if pair[0] == statistic.head(1).index:\n",
    "        best_estimator = (pair[0], pair[1])\n",
    "        print(best_estimator[0])\n",
    "        break\n"
   ]
  },
  {
   "cell_type": "code",
   "execution_count": 42,
   "id": "aa022c2b",
   "metadata": {},
   "outputs": [],
   "source": [
    "train_sizes, train_scores, validation_scores = learning_curve(estimator=best_estimator[1],X=X_train, y=y_train, train_sizes=train_size, cv=5, scoring='neg_mean_absolute_error') "
   ]
  },
  {
   "cell_type": "code",
   "execution_count": 43,
   "id": "4e77e7d9",
   "metadata": {},
   "outputs": [],
   "source": [
    "train_scores_mean = -train_scores.mean(axis = 1)\n",
    "validation_scores_mean = -validation_scores.mean(axis = 1)"
   ]
  },
  {
   "cell_type": "code",
   "execution_count": 44,
   "id": "693d84f9",
   "metadata": {},
   "outputs": [
    {
     "data": {
      "text/plain": [
       "(0.0, 40.0)"
      ]
     },
     "execution_count": 44,
     "metadata": {},
     "output_type": "execute_result"
    },
    {
     "data": {
      "image/png": "[encoded data removed]",
      "text/plain": [
       "<Figure size 640x480 with 1 Axes>"
      ]
     },
     "metadata": {},
     "output_type": "display_data"
    }
   ],
   "source": [
    "#plt.style.use('seaborn')\n",
    "\n",
    "plt.plot(train_sizes, train_scores_mean, label = 'Training error')\n",
    "plt.plot(train_sizes, validation_scores_mean, label = 'Validation error')\n",
    "plt.ylabel('MSE', fontsize = 14)\n",
    "plt.xlabel('Training set size', fontsize = 14)\n",
    "plt.title(f'Learning curves for a {best_estimator[0]} model', fontsize = 18, y = 1.03)\n",
    "plt.legend()\n",
    "plt.ylim(0,40)"
   ]
  },
  {
   "cell_type": "code",
   "execution_count": 45,
   "id": "f50c9657",
   "metadata": {
    "vscode": {
     "languageId": "bat"
    }
   },
   "outputs": [
    {
     "name": "stdout",
     "output_type": "stream",
     "text": [
      "Requirement already satisfied: statsmodels in c:\\users\\jewbe\\appdata\\local\\programs\\python\\python311\\lib\\site-packages (0.14.1)\n",
      "Requirement already satisfied: numpy<2,>=1.18 in c:\\users\\jewbe\\appdata\\local\\programs\\python\\python311\\lib\\site-packages (from statsmodels) (1.26.4)\n",
      "Requirement already satisfied: scipy!=1.9.2,>=1.4 in c:\\users\\jewbe\\appdata\\local\\programs\\python\\python311\\lib\\site-packages (from statsmodels) (1.12.0)\n",
      "Requirement already satisfied: pandas!=2.1.0,>=1.0 in c:\\users\\jewbe\\appdata\\local\\programs\\python\\python311\\lib\\site-packages (from statsmodels) (2.2.1)\n",
      "Requirement already satisfied: patsy>=0.5.4 in c:\\users\\jewbe\\appdata\\local\\programs\\python\\python311\\lib\\site-packages (from statsmodels) (0.5.6)\n",
      "Requirement already satisfied: packaging>=21.3 in c:\\users\\jewbe\\appdata\\roaming\\python\\python311\\site-packages (from statsmodels) (24.0)\n",
      "Requirement already satisfied: python-dateutil>=2.8.2 in c:\\users\\jewbe\\appdata\\roaming\\python\\python311\\site-packages (from pandas!=2.1.0,>=1.0->statsmodels) (2.9.0.post0)\n",
      "Requirement already satisfied: pytz>=2020.1 in c:\\users\\jewbe\\appdata\\local\\programs\\python\\python311\\lib\\site-packages (from pandas!=2.1.0,>=1.0->statsmodels) (2024.1)\n",
      "Requirement already satisfied: tzdata>=2022.7 in c:\\users\\jewbe\\appdata\\local\\programs\\python\\python311\\lib\\site-packages (from pandas!=2.1.0,>=1.0->statsmodels) (2024.1)\n",
      "Requirement already satisfied: six in c:\\users\\jewbe\\appdata\\roaming\\python\\python311\\site-packages (from patsy>=0.5.4->statsmodels) (1.16.0)\n",
      "Note: you may need to restart the kernel to use updated packages.\n",
      "Requirement already satisfied: seaborn in c:\\users\\jewbe\\appdata\\local\\programs\\python\\python311\\lib\\site-packages (0.13.2)\n",
      "Requirement already satisfied: numpy!=1.24.0,>=1.20 in c:\\users\\jewbe\\appdata\\local\\programs\\python\\python311\\lib\\site-packages (from seaborn) (1.26.4)\n",
      "Requirement already satisfied: pandas>=1.2 in c:\\users\\jewbe\\appdata\\local\\programs\\python\\python311\\lib\\site-packages (from seaborn) (2.2.1)\n",
      "Requirement already satisfied: matplotlib!=3.6.1,>=3.4 in c:\\users\\jewbe\\appdata\\local\\programs\\python\\python311\\lib\\site-packages (from seaborn) (3.8.3)\n",
      "Requirement already satisfied: contourpy>=1.0.1 in c:\\users\\jewbe\\appdata\\local\\programs\\python\\python311\\lib\\site-packages (from matplotlib!=3.6.1,>=3.4->seaborn) (1.2.0)\n",
      "Requirement already satisfied: cycler>=0.10 in c:\\users\\jewbe\\appdata\\local\\programs\\python\\python311\\lib\\site-packages (from matplotlib!=3.6.1,>=3.4->seaborn) (0.12.1)\n",
      "Requirement already satisfied: fonttools>=4.22.0 in c:\\users\\jewbe\\appdata\\local\\programs\\python\\python311\\lib\\site-packages (from matplotlib!=3.6.1,>=3.4->seaborn) (4.49.0)\n",
      "Requirement already satisfied: kiwisolver>=1.3.1 in c:\\users\\jewbe\\appdata\\local\\programs\\python\\python311\\lib\\site-packages (from matplotlib!=3.6.1,>=3.4->seaborn) (1.4.5)\n",
      "Requirement already satisfied: packaging>=20.0 in c:\\users\\jewbe\\appdata\\roaming\\python\\python311\\site-packages (from matplotlib!=3.6.1,>=3.4->seaborn) (24.0)\n",
      "Requirement already satisfied: pillow>=8 in c:\\users\\jewbe\\appdata\\local\\programs\\python\\python311\\lib\\site-packages (from matplotlib!=3.6.1,>=3.4->seaborn) (10.2.0)\n",
      "Requirement already satisfied: pyparsing>=2.3.1 in c:\\users\\jewbe\\appdata\\local\\programs\\python\\python311\\lib\\site-packages (from matplotlib!=3.6.1,>=3.4->seaborn) (3.1.2)\n",
      "Requirement already satisfied: python-dateutil>=2.7 in c:\\users\\jewbe\\appdata\\roaming\\python\\python311\\site-packages (from matplotlib!=3.6.1,>=3.4->seaborn) (2.9.0.post0)\n",
      "Requirement already satisfied: pytz>=2020.1 in c:\\users\\jewbe\\appdata\\local\\programs\\python\\python311\\lib\\site-packages (from pandas>=1.2->seaborn) (2024.1)\n",
      "Requirement already satisfied: tzdata>=2022.7 in c:\\users\\jewbe\\appdata\\local\\programs\\python\\python311\\lib\\site-packages (from pandas>=1.2->seaborn) (2024.1)\n",
      "Requirement already satisfied: six>=1.5 in c:\\users\\jewbe\\appdata\\roaming\\python\\python311\\site-packages (from python-dateutil>=2.7->matplotlib!=3.6.1,>=3.4->seaborn) (1.16.0)\n",
      "Note: you may need to restart the kernel to use updated packages.\n"
     ]
    }
   ],
   "source": [
    "\n",
    "%pip install statsmodels\n",
    "%pip install seaborn"
   ]
  },
  {
   "cell_type": "code",
   "execution_count": 46,
   "id": "94b43246",
   "metadata": {},
   "outputs": [],
   "source": [
    "#source:https://medium.com/swlh/multi-linear-regression-using-python-44bd0d10082d\n",
    "\n",
    "from statsmodels.regression.linear_model import OLS\n",
    "from statsmodels.stats.diagnostic import normal_ad\n",
    "import seaborn as sns\n",
    "\n"
   ]
  },
  {
   "cell_type": "code",
   "execution_count": 47,
   "id": "c6d476b0",
   "metadata": {},
   "outputs": [],
   "source": [
    "y_pred = best_estimator[1].predict(X_test)\n",
    "olsmod = OLS(y_train, X_train).fit()\n",
    "residual = olsmod.resid"
   ]
  },
  {
   "cell_type": "code",
   "execution_count": 48,
   "id": "f3809a6a",
   "metadata": {},
   "outputs": [
    {
     "name": "stdout",
     "output_type": "stream",
     "text": [
      "p-value from the test Anderson-Darling test below 0.05 generally means non-normal: 1.3425973968362797e-15\n"
     ]
    },
    {
     "data": {
      "image/png": "[encoded data removed]",
      "text/plain": [
       "<Figure size 800x400 with 1 Axes>"
      ]
     },
     "metadata": {},
     "output_type": "display_data"
    },
    {
     "name": "stdout",
     "output_type": "stream",
     "text": [
      "Residuals are not normally distributed\n"
     ]
    }
   ],
   "source": [
    "# Performing the test on the residuals\n",
    "p_value = normal_ad(residual)[1]\n",
    "print('p-value from the test Anderson-Darling test below 0.05 generally means non-normal:', p_value)\n",
    "\n",
    "# Plotting the residuals distribution\n",
    "plt.subplots(figsize=(8, 4))\n",
    "plt.title('Distribution of Residuals', fontsize=18)\n",
    "sns.histplot(data=residual, kde=True)\n",
    "plt.show()\n",
    "\n",
    "# Reporting the normality of the residuals\n",
    "if p_value < 0.05:\n",
    "    print('Residuals are not normally distributed')\n",
    "else:\n",
    "    print('Residuals are normally distributed')"
   ]
  },
  {
   "cell_type": "code",
   "execution_count": 49,
   "id": "4a26dfa7",
   "metadata": {},
   "outputs": [],
   "source": [
    "#replace co2_emission with scaled one\n",
    "plot_columns = ['actual_CO2_emission','predicted_emission']\n",
    "Y = pd.DataFrame(data=np.concatenate((y_test, np.reshape(a=y_pred, newshape=y_test.shape)), axis=1),\n",
    "                columns=plot_columns)\n"
   ]
  },
  {
   "cell_type": "code",
   "execution_count": 50,
   "id": "6141e171",
   "metadata": {},
   "outputs": [
    {
     "data": {
      "image/png": "[encoded data removed]",
      "text/plain": [
       "<Figure size 500x500 with 1 Axes>"
      ]
     },
     "metadata": {},
     "output_type": "display_data"
    }
   ],
   "source": [
    "\n",
    "\n",
    "sns.lmplot(x=plot_columns[0], y=plot_columns[1], data=Y ,fit_reg=False)\n",
    "    \n",
    "# Plotting the diagonal line\n",
    "line_coords = np.arange(start=Y[plot_columns].min().min()-10, \n",
    "                        stop=Y[plot_columns].max().max()+10)\n",
    "plt.plot(line_coords, line_coords,  # X and y points\n",
    "         color='darkorange', linestyle='--')\n",
    "\n",
    "plt.ylabel('Predicted CO2 emission', fontsize=14)\n",
    "plt.xlabel('Actual CO2 emission', fontsize=14)\n",
    "plt.title('Linearity Assumption', fontsize=16)\n",
    "plt.show()"
   ]
  },
  {
   "cell_type": "code",
   "execution_count": null,
   "id": "921e6b71",
   "metadata": {},
   "outputs": [],
   "source": []
  }
 ],
 "metadata": {
  "kernelspec": {
   "display_name": "Python 3 (ipykernel)",
   "language": "python",
   "name": "python3"
  },
  "language_info": {
   "codemirror_mode": {
    "name": "ipython",
    "version": 3
   },
   "file_extension": ".py",
   "mimetype": "text/x-python",
   "name": "python",
   "nbconvert_exporter": "python",
   "pygments_lexer": "ipython3",
   "version": "3.11.8"
  }
 },
 "nbformat": 4,
 "nbformat_minor": 5
}
