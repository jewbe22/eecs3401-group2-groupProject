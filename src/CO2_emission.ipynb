{
 "cells": [
  {
   "cell_type": "markdown",
   "id": "b2611ddb-37d6-475e-bbbf-fec2d5bb019d",
   "metadata": {},
   "source": [
    "# EECS3401 - Group Project - Group 2 #\n",
    "    \n",
    "## CO2 emission prediction ##"
   ]
  },
  {
   "cell_type": "markdown",
   "id": "159acad9-54e9-4793-8cb6-396fe1415fd0",
   "metadata": {},
   "source": [
    "### frame ### \n",
    "supervised: as the target value(CO2) emmision is provided as label\n",
    "        \n",
    "model-based: regression model is used to make the prediction\n",
    "\n",
    "batch-learning: as of now, we have no plan to make this model to be trained with future incomming new data"
   ]
  },
  {
   "cell_type": "markdown",
   "id": "fdd26e32",
   "metadata": {},
   "source": [
    "### 1. Dataset acquisition ###"
   ]
  },
  {
   "cell_type": "code",
   "execution_count": 1,
   "id": "eb19d16c",
   "metadata": {
    "vscode": {
     "languageId": "bat"
    }
   },
   "outputs": [
    {
     "name": "stdout",
     "output_type": "stream",
     "text": [
      "Requirement already satisfied: pandas in c:\\users\\jewbe\\appdata\\local\\programs\\python\\python311\\lib\\site-packages (2.2.1)Note: you may need to restart the kernel to use updated packages.\n",
      "\n",
      "Requirement already satisfied: numpy<2,>=1.23.2 in c:\\users\\jewbe\\appdata\\local\\programs\\python\\python311\\lib\\site-packages (from pandas) (1.26.4)\n",
      "Requirement already satisfied: python-dateutil>=2.8.2 in c:\\users\\jewbe\\appdata\\roaming\\python\\python311\\site-packages (from pandas) (2.9.0.post0)\n",
      "Requirement already satisfied: pytz>=2020.1 in c:\\users\\jewbe\\appdata\\local\\programs\\python\\python311\\lib\\site-packages (from pandas) (2024.1)\n",
      "Requirement already satisfied: tzdata>=2022.7 in c:\\users\\jewbe\\appdata\\local\\programs\\python\\python311\\lib\\site-packages (from pandas) (2024.1)\n",
      "Requirement already satisfied: six>=1.5 in c:\\users\\jewbe\\appdata\\roaming\\python\\python311\\site-packages (from python-dateutil>=2.8.2->pandas) (1.16.0)\n",
      "Requirement already satisfied: requests in c:\\users\\jewbe\\appdata\\local\\programs\\python\\python311\\lib\\site-packages (2.31.0)\n",
      "Requirement already satisfied: charset-normalizer<4,>=2 in c:\\users\\jewbe\\appdata\\local\\programs\\python\\python311\\lib\\site-packages (from requests) (3.3.2)\n",
      "Requirement already satisfied: idna<4,>=2.5 in c:\\users\\jewbe\\appdata\\local\\programs\\python\\python311\\lib\\site-packages (from requests) (3.6)\n",
      "Requirement already satisfied: urllib3<3,>=1.21.1 in c:\\users\\jewbe\\appdata\\local\\programs\\python\\python311\\lib\\site-packages (from requests) (2.2.1)\n",
      "Requirement already satisfied: certifi>=2017.4.17 in c:\\users\\jewbe\\appdata\\local\\programs\\python\\python311\\lib\\site-packages (from requests) (2024.2.2)\n",
      "Note: you may need to restart the kernel to use updated packages.\n"
     ]
    }
   ],
   "source": [
    "%pip install pandas\n",
    "%pip install requests\n"
   ]
  },
  {
   "cell_type": "code",
   "execution_count": 3,
   "id": "464507cc",
   "metadata": {},
   "outputs": [],
   "source": [
    "import pandas as pd\n",
    "import requests as rq\n",
    "from io import StringIO"
   ]
  },
  {
   "cell_type": "code",
   "execution_count": 4,
   "id": "26c7d6d4",
   "metadata": {},
   "outputs": [],
   "source": [
    "url = 'https://raw.githubusercontent.com/jewbe22/eecs3401-group2-groupProject/main/data/Fuel_Consumption_Ratings_2023.csv'\n",
    "download = rq.get(url).content\n",
    "\n",
    "co2_emission = pd.read_csv(StringIO(download.decode(errors='ignore')), sep=',', engine='python')"
   ]
  },
  {
   "cell_type": "markdown",
   "id": "f93ba69f",
   "metadata": {},
   "source": [
    "### 2. EDA ###"
   ]
  },
  {
   "cell_type": "code",
   "execution_count": 5,
   "id": "245d5f1b",
   "metadata": {},
   "outputs": [],
   "source": [
    "# todo"
   ]
  },
  {
   "cell_type": "markdown",
   "id": "d737f476",
   "metadata": {},
   "source": [
    "### 3. Data cleaning/Preprocessing ###"
   ]
  },
  {
   "cell_type": "code",
   "execution_count": 6,
   "id": "7d7850f4",
   "metadata": {},
   "outputs": [],
   "source": [
    "# todo"
   ]
  },
  {
   "cell_type": "markdown",
   "id": "e6b19336",
   "metadata": {},
   "source": [
    "### 4. Model training ###"
   ]
  },
  {
   "cell_type": "code",
   "execution_count": 7,
   "id": "f8998ab2",
   "metadata": {},
   "outputs": [],
   "source": [
    "# todo"
   ]
  },
  {
   "cell_type": "markdown",
   "id": "a84208ea",
   "metadata": {},
   "source": [
    "### 5. Performance analysis ###"
   ]
  },
  {
   "cell_type": "code",
   "execution_count": 8,
   "id": "2ac0c01a",
   "metadata": {},
   "outputs": [],
   "source": [
    "# todo"
   ]
  }
 ],
 "metadata": {
  "kernelspec": {
   "display_name": "Python 3 (ipykernel)",
   "language": "python",
   "name": "python3"
  },
  "language_info": {
   "codemirror_mode": {
    "name": "ipython",
    "version": 3
   },
   "file_extension": ".py",
   "mimetype": "text/x-python",
   "name": "python",
   "nbconvert_exporter": "python",
   "pygments_lexer": "ipython3",
   "version": "3.11.8"
  }
 },
 "nbformat": 4,
 "nbformat_minor": 5
}
