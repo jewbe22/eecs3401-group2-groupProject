{
 "cells": [
  {
   "cell_type": "raw",
   "id": "b2611ddb-37d6-475e-bbbf-fec2d5bb019d",
   "metadata": {},
   "source": [
    "EECS3401 - Group Project - Group 2\n",
    "    CO2 emission prediction"
   ]
  },
  {
   "cell_type": "code",
   "execution_count": null,
   "id": "159acad9-54e9-4793-8cb6-396fe1415fd0",
   "metadata": {},
   "outputs": [],
   "source": [
    "frame - supervised: as the target value(CO2) emmision is provided as label\n",
    "        regression: we are predicting CO2 emmission which is numerical\n",
    "        batch: as of now, we have no plan to make this model to be trained with future incomming new data"
   ]
  }
 ],
 "metadata": {
  "kernelspec": {
   "display_name": "Python 3 (ipykernel)",
   "language": "python",
   "name": "python3"
  },
  "language_info": {
   "codemirror_mode": {
    "name": "ipython",
    "version": 3
   },
   "file_extension": ".py",
   "mimetype": "text/x-python",
   "name": "python",
   "nbconvert_exporter": "python",
   "pygments_lexer": "ipython3",
   "version": "3.12.1"
  }
 },
 "nbformat": 4,
 "nbformat_minor": 5
}
